{
  "cells": [
    {
      "cell_type": "code",
      "execution_count": 83,
      "metadata": {
        "id": "Rz7kC8MtXKRo"
      },
      "outputs": [],
      "source": [
        "# !pip install langchain-groq\n",
        "# !pip install  langchain_community\n",
        "# !pip install chromadb"
      ]
    },
    {
      "cell_type": "code",
      "execution_count": 84,
      "metadata": {
        "id": "FKZ1uNNfQT5B"
      },
      "outputs": [],
      "source": [
        "from langchain_groq import ChatGroq\n",
        "\n",
        "# llm = ChatGroq(\n",
        "#     model=\"gemma2-9b-it\",\n",
        "#     temperature=0.0,\n",
        "#     groq_api_key=\"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\"\n",
        "# )\n",
        "\n",
        "llm = ChatGroq(\n",
        "    model=\"llama-3.3-70b-versatile\",\n",
        "    temperature=0.0,\n",
        "    groq_api_key = \"\"\n",
        ")"
      ]
    },
    {
      "cell_type": "code",
      "execution_count": null,
      "metadata": {
        "id": "8xDbNrfFWWzn"
      },
      "outputs": [],
      "source": [
        "# sample_res = llm.invoke(\"tell me where is mumbai?\")\n",
        "# print(sample_res.content)"
      ]
    },
    {
      "cell_type": "code",
      "execution_count": 85,
      "metadata": {
        "id": "pymy8pj4XcOU"
      },
      "outputs": [],
      "source": [
        "from langchain_community.document_loaders import WebBaseLoader"
      ]
    },
    {
      "cell_type": "code",
      "execution_count": 86,
      "metadata": {
        "id": "GMeAeRufXrQB"
      },
      "outputs": [],
      "source": [
        "loader = WebBaseLoader(\"https://www.amazon.jobs/en/jobs/2841524/business-intel-engineer-i-global-operations-artificial-intelligence?cmpid=SPLICX0248M&ss=paid&utm_campaign=cxro&utm_content=job_posting&utm_medium=social_media&utm_source=linkedin.com\")"
      ]
    },
    {
      "cell_type": "code",
      "execution_count": 87,
      "metadata": {
        "id": "APKB2plLYNlg"
      },
      "outputs": [],
      "source": [
        "page_data = loader.load().pop().page_content"
      ]
    },
    {
      "cell_type": "code",
      "execution_count": 88,
      "metadata": {
        "id": "E1xFC62qYVXb"
      },
      "outputs": [],
      "source": [
        "# print(page_data)"
      ]
    },
    {
      "cell_type": "code",
      "execution_count": 89,
      "metadata": {
        "id": "quiZHv0bYaDD"
      },
      "outputs": [],
      "source": [
        "from langchain_core.prompts import PromptTemplate"
      ]
    },
    {
      "cell_type": "code",
      "execution_count": 90,
      "metadata": {
        "id": "WhDZLDkBYtEN"
      },
      "outputs": [],
      "source": [
        "prompt_extract = PromptTemplate.from_template(\n",
        "    \"\"\"\n",
        "    **SCRAPPED DATA FROM WEBSITE: **\n",
        "    {page_data}\n",
        "    **SCRAPPED DATA ENDS HERE**\n",
        "    ** INSTRUCTIONS : ** The scrapped data is from a company's career website, your task is to extract the job postings data and return that into a JSON object containing the following keys: 'role', 'skills_required', 'experience', 'qualification'.\n",
        "    Only return the valid JSON object.\n",
        "    **NO PREAMBLE, ONLY VALID JSON OBJECT**\n",
        "    \"\"\"\n",
        ")"
      ]
    },
    {
      "cell_type": "code",
      "execution_count": 91,
      "metadata": {
        "id": "Zh59WRrYbMK9"
      },
      "outputs": [],
      "source": [
        "chain_extract = prompt_extract | llm\n",
        "response = chain_extract.invoke({\"page_data\": page_data})"
      ]
    },
    {
      "cell_type": "code",
      "execution_count": 92,
      "metadata": {
        "colab": {
          "base_uri": "https://localhost:8080/"
        },
        "id": "YimRjbcAbU9V",
        "outputId": "bea19704-8f6d-4054-ad8c-62a07ea6a044"
      },
      "outputs": [
        {
          "name": "stdout",
          "output_type": "stream",
          "text": [
            "```json\n",
            "{\n",
            "  \"role\": \"Business Intel Engineer I, Global Operations - Artificial Intelligence\",\n",
            "  \"skills_required\": [\n",
            "    \"Analyzing and interpreting data with Redshift, Oracle, NoSQL etc.\",\n",
            "    \"Building and maintaining basic data artifacts (e.g., ETL, data models, queries)\",\n",
            "    \"Experience with one or more industry analytics visualization tools (e.g. Excel, Tableau, QuickSight, MicroStrategy, PowerBI) and statistical methods (e.g. t-test, Chi-squared)\",\n",
            "    \"Experience with scripting language (e.g., Python, Java, or R)\",\n",
            "    \"Applying basic statistical methods (e.g. regression) to difficult business problems\"\n",
            "  ],\n",
            "  \"experience\": \"2+ years\",\n",
            "  \"qualification\": {\n",
            "    \"basic\": \"2+ years of analyzing and interpreting data\",\n",
            "    \"preferred\": [\n",
            "      \"Master's degree, or Advanced technical degree\",\n",
            "      \"Experience with statistical analysis, co-relation analysis\",\n",
            "      \"Knowledge of how to improve code quality and optimizes BI processes (e.g. speed, cost, reliability)\",\n",
            "      \"Excellence in technical communication with peers, partners, and non-technical cohorts\"\n",
            "    ]\n",
            "  }\n",
            "}\n",
            "```\n"
          ]
        }
      ],
      "source": [
        "print(response.content)"
      ]
    },
    {
      "cell_type": "code",
      "execution_count": 93,
      "metadata": {
        "colab": {
          "base_uri": "https://localhost:8080/"
        },
        "id": "DyaVEJ3sbYS9",
        "outputId": "ac175869-2dd1-48c9-d35b-0e1a5f31d492"
      },
      "outputs": [
        {
          "data": {
            "text/plain": [
              "str"
            ]
          },
          "execution_count": 93,
          "metadata": {},
          "output_type": "execute_result"
        }
      ],
      "source": [
        "type(response.content)"
      ]
    },
    {
      "cell_type": "code",
      "execution_count": 94,
      "metadata": {
        "id": "rNpiOSbIcjhY"
      },
      "outputs": [],
      "source": [
        "from langchain_core.output_parsers import JsonOutputParser"
      ]
    },
    {
      "cell_type": "code",
      "execution_count": 95,
      "metadata": {
        "id": "1p9_GRUhcsS6"
      },
      "outputs": [],
      "source": [
        "json_parser = JsonOutputParser()\n",
        "json_response = json_parser.parse(response.content)"
      ]
    },
    {
      "cell_type": "code",
      "execution_count": 96,
      "metadata": {
        "colab": {
          "base_uri": "https://localhost:8080/"
        },
        "id": "tv1nvOU5dExa",
        "outputId": "04acf1bd-1cfb-40f5-c084-7ed0f06ff46f"
      },
      "outputs": [
        {
          "data": {
            "text/plain": [
              "dict"
            ]
          },
          "execution_count": 96,
          "metadata": {},
          "output_type": "execute_result"
        }
      ],
      "source": [
        "type(json_response)"
      ]
    },
    {
      "cell_type": "code",
      "execution_count": 97,
      "metadata": {
        "colab": {
          "base_uri": "https://localhost:8080/"
        },
        "id": "nDRs3ES0dF6t",
        "outputId": "c6c57e20-582b-4958-d604-124007e501c9"
      },
      "outputs": [
        {
          "data": {
            "text/plain": [
              "{'role': 'Business Intel Engineer I, Global Operations - Artificial Intelligence',\n",
              " 'skills_required': ['Analyzing and interpreting data with Redshift, Oracle, NoSQL etc.',\n",
              "  'Building and maintaining basic data artifacts (e.g., ETL, data models, queries)',\n",
              "  'Experience with one or more industry analytics visualization tools (e.g. Excel, Tableau, QuickSight, MicroStrategy, PowerBI) and statistical methods (e.g. t-test, Chi-squared)',\n",
              "  'Experience with scripting language (e.g., Python, Java, or R)',\n",
              "  'Applying basic statistical methods (e.g. regression) to difficult business problems'],\n",
              " 'experience': '2+ years',\n",
              " 'qualification': {'basic': '2+ years of analyzing and interpreting data',\n",
              "  'preferred': [\"Master's degree, or Advanced technical degree\",\n",
              "   'Experience with statistical analysis, co-relation analysis',\n",
              "   'Knowledge of how to improve code quality and optimizes BI processes (e.g. speed, cost, reliability)',\n",
              "   'Excellence in technical communication with peers, partners, and non-technical cohorts']}}"
            ]
          },
          "execution_count": 97,
          "metadata": {},
          "output_type": "execute_result"
        }
      ],
      "source": [
        "json_response"
      ]
    },
    {
      "cell_type": "code",
      "execution_count": 98,
      "metadata": {
        "id": "l7W1-hixdH1e"
      },
      "outputs": [],
      "source": [
        "import pandas as pd"
      ]
    },
    {
      "cell_type": "code",
      "execution_count": 99,
      "metadata": {
        "id": "gqq4QE871Cgu"
      },
      "outputs": [],
      "source": [
        "portfolio = pd.DataFrame()\n",
        "portfolio['Portfolio'] =['Resume', 'GitHub', 'Linkedin']\n",
        "portfolio['Link'] = ['https://drive.google.com/file/d/1JWMkdZr0rDVLhUbdufHwLoRYRzIsmRfc/view?usp=sharing', 'https://github.com/darpan-2001', 'https://www.linkedin.com/in/darpan-chanana-058914201/']"
      ]
    },
    {
      "cell_type": "code",
      "execution_count": 100,
      "metadata": {
        "colab": {
          "base_uri": "https://localhost:8080/",
          "height": 143
        },
        "id": "EcOtCAaH4Usn",
        "outputId": "3e253dfe-2cf6-48b0-eebd-a6bc1d8fac68"
      },
      "outputs": [
        {
          "data": {
            "application/vnd.google.colaboratory.intrinsic+json": {
              "summary": "{\n  \"name\": \"portfolio\",\n  \"rows\": 3,\n  \"fields\": [\n    {\n      \"column\": \"Portfolio\",\n      \"properties\": {\n        \"dtype\": \"string\",\n        \"num_unique_values\": 3,\n        \"samples\": [\n          \"Resume\",\n          \"GitHub\",\n          \"Linkedin\"\n        ],\n        \"semantic_type\": \"\",\n        \"description\": \"\"\n      }\n    },\n    {\n      \"column\": \"Link\",\n      \"properties\": {\n        \"dtype\": \"string\",\n        \"num_unique_values\": 3,\n        \"samples\": [\n          \"https://drive.google.com/file/d/1JWMkdZr0rDVLhUbdufHwLoRYRzIsmRfc/view?usp=sharing\",\n          \"https://github.com/darpan-2001\",\n          \"https://www.linkedin.com/in/darpan-chanana-058914201/\"\n        ],\n        \"semantic_type\": \"\",\n        \"description\": \"\"\n      }\n    }\n  ]\n}",
              "type": "dataframe",
              "variable_name": "portfolio"
            },
            "text/html": [
              "\n",
              "  <div id=\"df-65086c4e-d2b3-4127-accf-973a2876e349\" class=\"colab-df-container\">\n",
              "    <div>\n",
              "<style scoped>\n",
              "    .dataframe tbody tr th:only-of-type {\n",
              "        vertical-align: middle;\n",
              "    }\n",
              "\n",
              "    .dataframe tbody tr th {\n",
              "        vertical-align: top;\n",
              "    }\n",
              "\n",
              "    .dataframe thead th {\n",
              "        text-align: right;\n",
              "    }\n",
              "</style>\n",
              "<table border=\"1\" class=\"dataframe\">\n",
              "  <thead>\n",
              "    <tr style=\"text-align: right;\">\n",
              "      <th></th>\n",
              "      <th>Portfolio</th>\n",
              "      <th>Link</th>\n",
              "    </tr>\n",
              "  </thead>\n",
              "  <tbody>\n",
              "    <tr>\n",
              "      <th>0</th>\n",
              "      <td>Resume</td>\n",
              "      <td>https://drive.google.com/file/d/1JWMkdZr0rDVLh...</td>\n",
              "    </tr>\n",
              "    <tr>\n",
              "      <th>1</th>\n",
              "      <td>GitHub</td>\n",
              "      <td>https://github.com/darpan-2001</td>\n",
              "    </tr>\n",
              "    <tr>\n",
              "      <th>2</th>\n",
              "      <td>Linkedin</td>\n",
              "      <td>https://www.linkedin.com/in/darpan-chanana-058...</td>\n",
              "    </tr>\n",
              "  </tbody>\n",
              "</table>\n",
              "</div>\n",
              "    <div class=\"colab-df-buttons\">\n",
              "\n",
              "  <div class=\"colab-df-container\">\n",
              "    <button class=\"colab-df-convert\" onclick=\"convertToInteractive('df-65086c4e-d2b3-4127-accf-973a2876e349')\"\n",
              "            title=\"Convert this dataframe to an interactive table.\"\n",
              "            style=\"display:none;\">\n",
              "\n",
              "  <svg xmlns=\"http://www.w3.org/2000/svg\" height=\"24px\" viewBox=\"0 -960 960 960\">\n",
              "    <path d=\"M120-120v-720h720v720H120Zm60-500h600v-160H180v160Zm220 220h160v-160H400v160Zm0 220h160v-160H400v160ZM180-400h160v-160H180v160Zm440 0h160v-160H620v160ZM180-180h160v-160H180v160Zm440 0h160v-160H620v160Z\"/>\n",
              "  </svg>\n",
              "    </button>\n",
              "\n",
              "  <style>\n",
              "    .colab-df-container {\n",
              "      display:flex;\n",
              "      gap: 12px;\n",
              "    }\n",
              "\n",
              "    .colab-df-convert {\n",
              "      background-color: #E8F0FE;\n",
              "      border: none;\n",
              "      border-radius: 50%;\n",
              "      cursor: pointer;\n",
              "      display: none;\n",
              "      fill: #1967D2;\n",
              "      height: 32px;\n",
              "      padding: 0 0 0 0;\n",
              "      width: 32px;\n",
              "    }\n",
              "\n",
              "    .colab-df-convert:hover {\n",
              "      background-color: #E2EBFA;\n",
              "      box-shadow: 0px 1px 2px rgba(60, 64, 67, 0.3), 0px 1px 3px 1px rgba(60, 64, 67, 0.15);\n",
              "      fill: #174EA6;\n",
              "    }\n",
              "\n",
              "    .colab-df-buttons div {\n",
              "      margin-bottom: 4px;\n",
              "    }\n",
              "\n",
              "    [theme=dark] .colab-df-convert {\n",
              "      background-color: #3B4455;\n",
              "      fill: #D2E3FC;\n",
              "    }\n",
              "\n",
              "    [theme=dark] .colab-df-convert:hover {\n",
              "      background-color: #434B5C;\n",
              "      box-shadow: 0px 1px 3px 1px rgba(0, 0, 0, 0.15);\n",
              "      filter: drop-shadow(0px 1px 2px rgba(0, 0, 0, 0.3));\n",
              "      fill: #FFFFFF;\n",
              "    }\n",
              "  </style>\n",
              "\n",
              "    <script>\n",
              "      const buttonEl =\n",
              "        document.querySelector('#df-65086c4e-d2b3-4127-accf-973a2876e349 button.colab-df-convert');\n",
              "      buttonEl.style.display =\n",
              "        google.colab.kernel.accessAllowed ? 'block' : 'none';\n",
              "\n",
              "      async function convertToInteractive(key) {\n",
              "        const element = document.querySelector('#df-65086c4e-d2b3-4127-accf-973a2876e349');\n",
              "        const dataTable =\n",
              "          await google.colab.kernel.invokeFunction('convertToInteractive',\n",
              "                                                    [key], {});\n",
              "        if (!dataTable) return;\n",
              "\n",
              "        const docLinkHtml = 'Like what you see? Visit the ' +\n",
              "          '<a target=\"_blank\" href=https://colab.research.google.com/notebooks/data_table.ipynb>data table notebook</a>'\n",
              "          + ' to learn more about interactive tables.';\n",
              "        element.innerHTML = '';\n",
              "        dataTable['output_type'] = 'display_data';\n",
              "        await google.colab.output.renderOutput(dataTable, element);\n",
              "        const docLink = document.createElement('div');\n",
              "        docLink.innerHTML = docLinkHtml;\n",
              "        element.appendChild(docLink);\n",
              "      }\n",
              "    </script>\n",
              "  </div>\n",
              "\n",
              "\n",
              "<div id=\"df-71936e20-d389-44e3-9655-b6136c6b4b14\">\n",
              "  <button class=\"colab-df-quickchart\" onclick=\"quickchart('df-71936e20-d389-44e3-9655-b6136c6b4b14')\"\n",
              "            title=\"Suggest charts\"\n",
              "            style=\"display:none;\">\n",
              "\n",
              "<svg xmlns=\"http://www.w3.org/2000/svg\" height=\"24px\"viewBox=\"0 0 24 24\"\n",
              "     width=\"24px\">\n",
              "    <g>\n",
              "        <path d=\"M19 3H5c-1.1 0-2 .9-2 2v14c0 1.1.9 2 2 2h14c1.1 0 2-.9 2-2V5c0-1.1-.9-2-2-2zM9 17H7v-7h2v7zm4 0h-2V7h2v10zm4 0h-2v-4h2v4z\"/>\n",
              "    </g>\n",
              "</svg>\n",
              "  </button>\n",
              "\n",
              "<style>\n",
              "  .colab-df-quickchart {\n",
              "      --bg-color: #E8F0FE;\n",
              "      --fill-color: #1967D2;\n",
              "      --hover-bg-color: #E2EBFA;\n",
              "      --hover-fill-color: #174EA6;\n",
              "      --disabled-fill-color: #AAA;\n",
              "      --disabled-bg-color: #DDD;\n",
              "  }\n",
              "\n",
              "  [theme=dark] .colab-df-quickchart {\n",
              "      --bg-color: #3B4455;\n",
              "      --fill-color: #D2E3FC;\n",
              "      --hover-bg-color: #434B5C;\n",
              "      --hover-fill-color: #FFFFFF;\n",
              "      --disabled-bg-color: #3B4455;\n",
              "      --disabled-fill-color: #666;\n",
              "  }\n",
              "\n",
              "  .colab-df-quickchart {\n",
              "    background-color: var(--bg-color);\n",
              "    border: none;\n",
              "    border-radius: 50%;\n",
              "    cursor: pointer;\n",
              "    display: none;\n",
              "    fill: var(--fill-color);\n",
              "    height: 32px;\n",
              "    padding: 0;\n",
              "    width: 32px;\n",
              "  }\n",
              "\n",
              "  .colab-df-quickchart:hover {\n",
              "    background-color: var(--hover-bg-color);\n",
              "    box-shadow: 0 1px 2px rgba(60, 64, 67, 0.3), 0 1px 3px 1px rgba(60, 64, 67, 0.15);\n",
              "    fill: var(--button-hover-fill-color);\n",
              "  }\n",
              "\n",
              "  .colab-df-quickchart-complete:disabled,\n",
              "  .colab-df-quickchart-complete:disabled:hover {\n",
              "    background-color: var(--disabled-bg-color);\n",
              "    fill: var(--disabled-fill-color);\n",
              "    box-shadow: none;\n",
              "  }\n",
              "\n",
              "  .colab-df-spinner {\n",
              "    border: 2px solid var(--fill-color);\n",
              "    border-color: transparent;\n",
              "    border-bottom-color: var(--fill-color);\n",
              "    animation:\n",
              "      spin 1s steps(1) infinite;\n",
              "  }\n",
              "\n",
              "  @keyframes spin {\n",
              "    0% {\n",
              "      border-color: transparent;\n",
              "      border-bottom-color: var(--fill-color);\n",
              "      border-left-color: var(--fill-color);\n",
              "    }\n",
              "    20% {\n",
              "      border-color: transparent;\n",
              "      border-left-color: var(--fill-color);\n",
              "      border-top-color: var(--fill-color);\n",
              "    }\n",
              "    30% {\n",
              "      border-color: transparent;\n",
              "      border-left-color: var(--fill-color);\n",
              "      border-top-color: var(--fill-color);\n",
              "      border-right-color: var(--fill-color);\n",
              "    }\n",
              "    40% {\n",
              "      border-color: transparent;\n",
              "      border-right-color: var(--fill-color);\n",
              "      border-top-color: var(--fill-color);\n",
              "    }\n",
              "    60% {\n",
              "      border-color: transparent;\n",
              "      border-right-color: var(--fill-color);\n",
              "    }\n",
              "    80% {\n",
              "      border-color: transparent;\n",
              "      border-right-color: var(--fill-color);\n",
              "      border-bottom-color: var(--fill-color);\n",
              "    }\n",
              "    90% {\n",
              "      border-color: transparent;\n",
              "      border-bottom-color: var(--fill-color);\n",
              "    }\n",
              "  }\n",
              "</style>\n",
              "\n",
              "  <script>\n",
              "    async function quickchart(key) {\n",
              "      const quickchartButtonEl =\n",
              "        document.querySelector('#' + key + ' button');\n",
              "      quickchartButtonEl.disabled = true;  // To prevent multiple clicks.\n",
              "      quickchartButtonEl.classList.add('colab-df-spinner');\n",
              "      try {\n",
              "        const charts = await google.colab.kernel.invokeFunction(\n",
              "            'suggestCharts', [key], {});\n",
              "      } catch (error) {\n",
              "        console.error('Error during call to suggestCharts:', error);\n",
              "      }\n",
              "      quickchartButtonEl.classList.remove('colab-df-spinner');\n",
              "      quickchartButtonEl.classList.add('colab-df-quickchart-complete');\n",
              "    }\n",
              "    (() => {\n",
              "      let quickchartButtonEl =\n",
              "        document.querySelector('#df-71936e20-d389-44e3-9655-b6136c6b4b14 button');\n",
              "      quickchartButtonEl.style.display =\n",
              "        google.colab.kernel.accessAllowed ? 'block' : 'none';\n",
              "    })();\n",
              "  </script>\n",
              "</div>\n",
              "\n",
              "  <div id=\"id_819e106c-ad7a-4b31-b6f0-e890cba26209\">\n",
              "    <style>\n",
              "      .colab-df-generate {\n",
              "        background-color: #E8F0FE;\n",
              "        border: none;\n",
              "        border-radius: 50%;\n",
              "        cursor: pointer;\n",
              "        display: none;\n",
              "        fill: #1967D2;\n",
              "        height: 32px;\n",
              "        padding: 0 0 0 0;\n",
              "        width: 32px;\n",
              "      }\n",
              "\n",
              "      .colab-df-generate:hover {\n",
              "        background-color: #E2EBFA;\n",
              "        box-shadow: 0px 1px 2px rgba(60, 64, 67, 0.3), 0px 1px 3px 1px rgba(60, 64, 67, 0.15);\n",
              "        fill: #174EA6;\n",
              "      }\n",
              "\n",
              "      [theme=dark] .colab-df-generate {\n",
              "        background-color: #3B4455;\n",
              "        fill: #D2E3FC;\n",
              "      }\n",
              "\n",
              "      [theme=dark] .colab-df-generate:hover {\n",
              "        background-color: #434B5C;\n",
              "        box-shadow: 0px 1px 3px 1px rgba(0, 0, 0, 0.15);\n",
              "        filter: drop-shadow(0px 1px 2px rgba(0, 0, 0, 0.3));\n",
              "        fill: #FFFFFF;\n",
              "      }\n",
              "    </style>\n",
              "    <button class=\"colab-df-generate\" onclick=\"generateWithVariable('portfolio')\"\n",
              "            title=\"Generate code using this dataframe.\"\n",
              "            style=\"display:none;\">\n",
              "\n",
              "  <svg xmlns=\"http://www.w3.org/2000/svg\" height=\"24px\"viewBox=\"0 0 24 24\"\n",
              "       width=\"24px\">\n",
              "    <path d=\"M7,19H8.4L18.45,9,17,7.55,7,17.6ZM5,21V16.75L18.45,3.32a2,2,0,0,1,2.83,0l1.4,1.43a1.91,1.91,0,0,1,.58,1.4,1.91,1.91,0,0,1-.58,1.4L9.25,21ZM18.45,9,17,7.55Zm-12,3A5.31,5.31,0,0,0,4.9,8.1,5.31,5.31,0,0,0,1,6.5,5.31,5.31,0,0,0,4.9,4.9,5.31,5.31,0,0,0,6.5,1,5.31,5.31,0,0,0,8.1,4.9,5.31,5.31,0,0,0,12,6.5,5.46,5.46,0,0,0,6.5,12Z\"/>\n",
              "  </svg>\n",
              "    </button>\n",
              "    <script>\n",
              "      (() => {\n",
              "      const buttonEl =\n",
              "        document.querySelector('#id_819e106c-ad7a-4b31-b6f0-e890cba26209 button.colab-df-generate');\n",
              "      buttonEl.style.display =\n",
              "        google.colab.kernel.accessAllowed ? 'block' : 'none';\n",
              "\n",
              "      buttonEl.onclick = () => {\n",
              "        google.colab.notebook.generateWithVariable('portfolio');\n",
              "      }\n",
              "      })();\n",
              "    </script>\n",
              "  </div>\n",
              "\n",
              "    </div>\n",
              "  </div>\n"
            ],
            "text/plain": [
              "  Portfolio                                               Link\n",
              "0    Resume  https://drive.google.com/file/d/1JWMkdZr0rDVLh...\n",
              "1    GitHub                     https://github.com/darpan-2001\n",
              "2  Linkedin  https://www.linkedin.com/in/darpan-chanana-058..."
            ]
          },
          "execution_count": 100,
          "metadata": {},
          "output_type": "execute_result"
        }
      ],
      "source": [
        "portfolio"
      ]
    },
    {
      "cell_type": "code",
      "execution_count": 101,
      "metadata": {
        "id": "6H7fWWwwDFNb"
      },
      "outputs": [],
      "source": [
        "# portfolio.to_csv('/content/drive/MyDrive/portfolio.csv', index=False)"
      ]
    },
    {
      "cell_type": "code",
      "execution_count": 102,
      "metadata": {
        "id": "1CFxqEY2DHf8"
      },
      "outputs": [],
      "source": [
        "import uuid\n",
        "import chromadb"
      ]
    },
    {
      "cell_type": "code",
      "execution_count": 103,
      "metadata": {
        "id": "Y5Td-We5D6_X"
      },
      "outputs": [],
      "source": [
        "client = chromadb.PersistentClient('vector_store')\n",
        "collection = client.get_or_create_collection('portfolio')"
      ]
    },
    {
      "cell_type": "code",
      "execution_count": 103,
      "metadata": {
        "id": "XTPq2XkNEq10"
      },
      "outputs": [],
      "source": []
    },
    {
      "cell_type": "code",
      "execution_count": 104,
      "metadata": {
        "id": "0IZc_wEmE7cD"
      },
      "outputs": [],
      "source": [
        "if not collection.count():\n",
        "  for _, row in portfolio.iterrows():\n",
        "    collection.add(\n",
        "        documents=[row['Portfolio']],\n",
        "        metadatas=[{'link': row['Link']}],\n",
        "        ids=[str(uuid.uuid4())]\n",
        "    )"
      ]
    },
    {
      "cell_type": "code",
      "execution_count": 105,
      "metadata": {
        "colab": {
          "base_uri": "https://localhost:8080/"
        },
        "id": "mToZZFK_E7es",
        "outputId": "e0f7d88f-626c-4a2d-b45d-a2a9d23b8adf"
      },
      "outputs": [
        {
          "data": {
            "text/plain": [
              "{'ids': ['198eb137-9406-43e0-813b-09009a068159',\n",
              "  '37cd2594-fdea-4c32-8011-ca513efb2d80',\n",
              "  '67414228-08cd-442b-9387-10da69040850'],\n",
              " 'embeddings': None,\n",
              " 'documents': ['Resume', 'GitHub', 'Linkedin'],\n",
              " 'uris': None,\n",
              " 'data': None,\n",
              " 'metadatas': [{'link': 'https://drive.google.com/file/d/1JWMkdZr0rDVLhUbdufHwLoRYRzIsmRfc/view?usp=sharing'},\n",
              "  {'link': 'https://github.com/darpan-2001'},\n",
              "  {'link': 'https://www.linkedin.com/in/darpan-chanana-058914201/'}],\n",
              " 'included': [<IncludeEnum.documents: 'documents'>,\n",
              "  <IncludeEnum.metadatas: 'metadatas'>]}"
            ]
          },
          "execution_count": 105,
          "metadata": {},
          "output_type": "execute_result"
        }
      ],
      "source": [
        "collection.get()"
      ]
    },
    {
      "cell_type": "code",
      "execution_count": 106,
      "metadata": {
        "colab": {
          "base_uri": "https://localhost:8080/"
        },
        "id": "D1b8sZXSE7iQ",
        "outputId": "30ff2ee1-3be5-4a8c-df2e-9fbd63252bd5"
      },
      "outputs": [
        {
          "name": "stdout",
          "output_type": "stream",
          "text": [
            "{'ids': [['198eb137-9406-43e0-813b-09009a068159'], ['198eb137-9406-43e0-813b-09009a068159']], 'embeddings': None, 'documents': [['Resume'], ['Resume']], 'uris': None, 'data': None, 'metadatas': [[{'link': 'https://drive.google.com/file/d/1JWMkdZr0rDVLhUbdufHwLoRYRzIsmRfc/view?usp=sharing'}], [{'link': 'https://drive.google.com/file/d/1JWMkdZr0rDVLhUbdufHwLoRYRzIsmRfc/view?usp=sharing'}]], 'distances': [[1.509785682668869], [1.5986000984118787]], 'included': [<IncludeEnum.distances: 'distances'>, <IncludeEnum.documents: 'documents'>, <IncludeEnum.metadatas: 'metadatas'>]}\n"
          ]
        }
      ],
      "source": [
        "# sample_output = collection.query(\n",
        "#     query_texts=[\"experience in python\", \"need someone with experience in natural language processing\"],\n",
        "#     n_results=2\n",
        "# ).get('metadatas', [])\n",
        "\n",
        "sample_output = collection.query(\n",
        "    query_texts=[\"experience in python\", \"need someone with experience in natural language processing\"],\n",
        "    n_results=1\n",
        ")\n",
        "\n",
        "print(sample_output)"
      ]
    },
    {
      "cell_type": "code",
      "execution_count": 107,
      "metadata": {
        "colab": {
          "base_uri": "https://localhost:8080/"
        },
        "id": "T9gfrriJFzYi",
        "outputId": "833cfc60-f4be-4de6-c76c-1e5379f49029"
      },
      "outputs": [
        {
          "data": {
            "text/plain": [
              "['Analyzing and interpreting data with Redshift, Oracle, NoSQL etc.',\n",
              " 'Building and maintaining basic data artifacts (e.g., ETL, data models, queries)',\n",
              " 'Experience with one or more industry analytics visualization tools (e.g. Excel, Tableau, QuickSight, MicroStrategy, PowerBI) and statistical methods (e.g. t-test, Chi-squared)',\n",
              " 'Experience with scripting language (e.g., Python, Java, or R)',\n",
              " 'Applying basic statistical methods (e.g. regression) to difficult business problems']"
            ]
          },
          "execution_count": 107,
          "metadata": {},
          "output_type": "execute_result"
        }
      ],
      "source": [
        "# json_response\n",
        "json_response['skills_required']"
      ]
    },
    {
      "cell_type": "code",
      "execution_count": 108,
      "metadata": {
        "id": "zv6Cb01FGrJc"
      },
      "outputs": [],
      "source": [
        "email_content_required = collection.query(\n",
        "    query_texts=json_response['skills_required'],\n",
        "    n_results=1\n",
        ")\n",
        "\n",
        "# print(email_content_required)"
      ]
    },
    {
      "cell_type": "code",
      "execution_count": 123,
      "metadata": {
        "id": "ACwxZ7xTNbug"
      },
      "outputs": [],
      "source": [
        "portfolio_link = collection.query(\n",
        "    query_texts=json_response['skills_required'],\n",
        "    n_results=2\n",
        ").get('metadatas', [])"
      ]
    },
    {
      "cell_type": "code",
      "execution_count": 124,
      "metadata": {
        "id": "gAReBL-dNbxB"
      },
      "outputs": [],
      "source": [
        "job = json_response"
      ]
    },
    {
      "cell_type": "code",
      "execution_count": 125,
      "metadata": {
        "colab": {
          "base_uri": "https://localhost:8080/"
        },
        "id": "lf_UeCi9Nb0s",
        "outputId": "613da105-6b1a-40a4-e5be-82a049373ecf"
      },
      "outputs": [
        {
          "name": "stdout",
          "output_type": "stream",
          "text": [
            "[['GitHub', 'Resume'], ['Resume', 'GitHub'], ['GitHub', 'Linkedin'], ['GitHub', 'Resume'], ['Resume', 'GitHub']]\n"
          ]
        }
      ],
      "source": [
        "doc_name = collection.query(\n",
        "    query_texts=json_response['skills_required'],\n",
        "    n_results=2\n",
        ").get('documents', [])\n",
        "\n",
        "print(doc_name)"
      ]
    },
    {
      "cell_type": "code",
      "execution_count": 126,
      "metadata": {
        "id": "QTjaVby7HAHZ"
      },
      "outputs": [],
      "source": [
        "prompt_email = PromptTemplate.from_template(\n",
        "        \"\"\"\n",
        "        ### JOB DESCRIPTION:\n",
        "        {job_description}\n",
        "\n",
        "        ### INSTRUCTION:\n",
        "        You are a Software Engineer, working in the AI and Data Science domain. You are now looking for a new job.\n",
        "        With your skills and experience, you have empowered your current company's business by building and testing deep learning models, which has heightened overall efficiency of AI models being pushed to production.\n",
        "        Your job is to write a cold email to the hiring manager, explaining how your skillset and experience can be helpful for their organization.\n",
        "        Also, include the most relevant portfolio link of yours with the document name in the following format:\n",
        "\n",
        "        Take a look at my work here:\n",
        "        {doc_name}: {link_list}\n",
        "\n",
        "        Ensure that each link is listed only once, the name of the portfolio document is provided, and it is presented in a clean, readable format.\n",
        "        Do not repeat any link, even if you are referencing them multiple times within the email and also include the name of documnet only before prinitng it's link.\n",
        "        Remember you are a software engineer working in AI domain.\n",
        "        Do not provide a preamble.\n",
        "\n",
        "        ### EMAIL (NO PREAMBLE):\n",
        "        \"\"\"\n",
        "        )"
      ]
    },
    {
      "cell_type": "code",
      "execution_count": 127,
      "metadata": {
        "colab": {
          "base_uri": "https://localhost:8080/"
        },
        "id": "bpsnlYeoOGwY",
        "outputId": "675e3697-10d3-4f3a-8f64-bf5230e47d56"
      },
      "outputs": [
        {
          "name": "stdout",
          "output_type": "stream",
          "text": [
            "Subject: Application for Business Intel Engineer I, Global Operations - Artificial Intelligence\n",
            "\n",
            "Dear Hiring Manager,\n",
            "\n",
            "I am excited to apply for the Business Intel Engineer I, Global Operations - Artificial Intelligence role at your organization. With over 2 years of experience in analyzing and interpreting data, I am confident that my skills and expertise can help drive business growth and improvement.\n",
            "\n",
            "As a software engineer in the AI and Data Science domain, I have a strong background in building and testing deep learning models, which has heightened the overall efficiency of AI models being pushed to production. My experience with scripting languages such as Python, and industry analytics visualization tools like Tableau and PowerBI, has enabled me to effectively communicate insights and results to both technical and non-technical stakeholders.\n",
            "\n",
            "I am well-versed in applying basic statistical methods, including regression analysis, to complex business problems. My expertise in data modeling, ETL, and data querying has allowed me to build and maintain robust data artifacts. I am also familiar with databases such as Redshift, Oracle, and NoSQL.\n",
            "\n",
            "Take a look at my work here:\n",
            "My Resume: https://drive.google.com/file/d/1JWMkdZr0rDVLhUbdufHwLoRYRzIsmRfc/view?usp=sharing\n",
            "My GitHub: https://github.com/darpan-2001\n",
            "My LinkedIn: https://www.linkedin.com/in/darpan-chanana-058914201/\n",
            "\n",
            "I am excited about the opportunity to bring my skills and experience to your organization and contribute to the success of your team. Thank you for considering my application. I look forward to discussing my qualifications further.\n",
            "\n",
            "Best regards,\n",
            "[Your Name]\n"
          ]
        }
      ],
      "source": [
        "chain_email = prompt_email | llm\n",
        "response = chain_email.invoke({\"job_description\": str(job), \"doc_name\": doc_name, \"link_list\": portfolio_link})\n",
        "print(response.content)"
      ]
    },
    {
      "cell_type": "code",
      "execution_count": null,
      "metadata": {
        "id": "JIUAloMbOf7Z"
      },
      "outputs": [],
      "source": []
    }
  ],
  "metadata": {
    "colab": {
      "provenance": []
    },
    "kernelspec": {
      "display_name": "Python 3",
      "name": "python3"
    },
    "language_info": {
      "name": "python"
    }
  },
  "nbformat": 4,
  "nbformat_minor": 0
}
